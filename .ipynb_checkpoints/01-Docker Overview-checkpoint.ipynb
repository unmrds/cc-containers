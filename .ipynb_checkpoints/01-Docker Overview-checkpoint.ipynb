{
 "cells": [
  {
   "cell_type": "markdown",
   "metadata": {},
   "source": [
    "# Introduction to Containerization with Docker"
   ]
  },
  {
   "cell_type": "markdown",
   "metadata": {},
   "source": [
    "## What is containerization? What are Containers?\n",
    "\n",
    "Containerization is the process of defining the software components required to run a *specific application*. In the context of a Docker-based containerization process this definition is written into a *Dockerfile*. A Dockerfile is then used to create a *Docker Image*. That Docker Image can then be used as the basis for one or more separate *Docker Containers*, or as the starting point for defining a new Dockerfile. Docker containers are immutable (i.e. changes to the container are **do not** update the source image, and are lost when the container is stopped *and* removed). A modified container can be used to create a new image through the *commit* command. \n",
    "\n",
    "![Docker flow diagram](dockerFlow.png)\n",
    "\n",
    "This process of building a new image from a base image plus changes defined in a dockerfile, or changes made to a container based on that image and committed to a new image yields a model in which individual Docker images are made up of stacks of images that have been used to build previous base images. \n",
    "\n",
    "![Docker layer model](layers.png)\n",
    "\n",
    "\n",
    "### How is it different from virtualization (i.e. virtual machines)?\n",
    "\n",
    "You may have encountered references to *virtual machines* (or VMs) as a model for running virtual computer environments within/on computer hardware. A common question that arises when discussing containerization is how it differs from virtualization.  The primary difference between the two is that the machine images and corresponding virtual machines that they enable are fully self-contained virtual systems that provide all of the core capabilities (in virtual form) of a dedicated computer, including a full operating system (such as Windows or Liunx [Mac OS is infrequently used as an OS for VMs]) and set of applications running within that operating system. Containerized apps, on the other hand share a common container engine that provides core operating system capabilities that allow the application code within the container to run *as if* it were operating within a fully functional OS and hardware environment. \n",
    "\n",
    "![Comparison of Hypervisor VM and Container Models](VMvsContainer.png)"
   ]
  },
  {
   "cell_type": "markdown",
   "metadata": {},
   "source": [
    "## Why would I use containers in my work?\n",
    "\n",
    "* Portability of **applications**\n",
    "* Comparatively lightweight\n",
    "* Consistent behavior across systems\n",
    "* Specific and clearly defined sectup and configuration processes through *Dockerfiles*\n",
    "* Broad support\n",
    "    * Cloud providers\n",
    "        * [Digital Ocean](https://www.digitalocean.com)\n",
    "        * [Google Cloud Platform](https://cloud.google.com/containers/)\n",
    "        * [Amazon Elastic Container Service](https://aws.amazon.com/ecs/)\n",
    "        * [Microsoft Azure Container Service](https://azure.microsoft.com/en-us/services/container-service/)\n",
    "    * Desktop operating systems (Docker Engine & additional tools - CE)\n",
    "        * [Mac OS](https://docs.docker.com/docker-for-mac/install/)\n",
    "        * [Windows](https://docs.docker.com/docker-for-windows/install/)\n",
    "    * Servers (CE)\n",
    "        * Linux \n",
    "            * [Ubuntu](https://docs.docker.com/install/linux/docker-ce/ubuntu/)\n",
    "            * [Debian](https://docs.docker.com/install/linux/docker-ce/debian/)\n",
    "            * [CentOS](https://docs.docker.com/install/linux/docker-ce/centos/)\n",
    "            * [Fedora](https://docs.docker.com/install/linux/docker-ce/fedora/)\n",
    "* You don't need to reinvent the wheel - Many pre-configured containers have been developed and maintained by the community \n",
    "    * There are numerous container images and documentation maintained in [Docker Hub](https://hub.docker.com) and [Docker Store](https://store.docker.com/search?q=&source=community&type=image) - You can share your images through Docker Hub as sell\n",
    "    * Many, many Dockerfiles maintained and accessible through [GitHub](https://github.com/search?utf8=✓&q=dockerfile&type=)\n",
    "* Containers can provide a foundation for a reproducable environment & workflow\n",
    "* Application containers are *imutable* and you can store data in data containers or through mounted directories on the host operating system\n",
    "* Multiple containers can be \"composed\" into combined services"
   ]
  },
  {
   "cell_type": "markdown",
   "metadata": {},
   "source": [
    "## Why would I *not* use containers?\n",
    "\n",
    "* Your workflows and applications are primarily Windows or Mac OS application based\n",
    "    * While you can run the Docker platform (i.e. Docker Engine) on a wide variety of operating systems, the applications that you can run in Docker containers are typically Linux based. \n",
    "* You typically work with applications for which there are robust installers for your particular operating system. "
   ]
  },
  {
   "cell_type": "markdown",
   "metadata": {},
   "source": [
    "## Sample Use Scenarios"
   ]
  },
  {
   "cell_type": "markdown",
   "metadata": {},
   "source": [
    "### Run a Debian Linux environment"
   ]
  },
  {
   "cell_type": "code",
   "execution_count": 1,
   "metadata": {},
   "outputs": [
    {
     "name": "stdout",
     "output_type": "stream",
     "text": [
      "Using default tag: latest\n",
      "latest: Pulling from library/debian\n",
      "Digest: sha256:4fcd8c0b6f5e3bd44a3e63be259fd0c038476d432953d449ef34aedf16def331\n",
      "Status: Image is up to date for debian:latest\n"
     ]
    }
   ],
   "source": [
    "%%bash\n",
    "# Pull the \"Official\" Debian docker image from Dockerhub \n",
    "docker pull debian"
   ]
  },
  {
   "cell_type": "markdown",
   "metadata": {},
   "source": [
    "    Karls-MacBook-Pro-2:~ kbene$ docker run -it debian\n",
    "root@e3d7e52268a5:/# cd\n",
    "root@e3d7e52268a5:~# touch demo.txt\n",
    "root@e3d7e52268a5:~# ls\n",
    "demo.txt\n",
    "root@e3d7e52268a5:~# exit\n",
    "exit\n",
    "Karls-MacBook-Pro-2:~ kbene$\n",
    "        \n",
    "    Karls-MacBook-Pro-2:~ kbene$ docker run -it debian\n",
    "root@5f4a7f5c490f:/# cd\n",
    "root@5f4a7f5c490f:~# ls\n",
    "root@5f4a7f5c490f:~# exit\n",
    "exit\n",
    "Karls-MacBook-Pro-2:~ kbene$ "
   ]
  },
  {
   "cell_type": "markdown",
   "metadata": {},
   "source": [
    "### Setup and configure a web application\n",
    "\n",
    "Based on the official Apache HTTPD container: [https://hub.docker.com/_/httpd](https://hub.docker.com/_/httpd)"
   ]
  },
  {
   "cell_type": "code",
   "execution_count": 2,
   "metadata": {},
   "outputs": [
    {
     "name": "stdout",
     "output_type": "stream",
     "text": [
      "Sending build context to Docker daemon   12.8kB\n",
      "Step 1/2 : FROM httpd:2.4\n",
      " ---> 01154c38b473\n",
      "Step 2/2 : COPY ./public-html/ /usr/local/apache2/htdocs/\n",
      " ---> Using cache\n",
      " ---> 64014fab144e\n",
      "Successfully built 64014fab144e\n",
      "Successfully tagged kbene/httpd-local:latest\n",
      "d1e520feadabe3cd93ae33fd31e4480c066d3bfb83919d9af959ca7998bbc6b6\n"
     ]
    }
   ],
   "source": [
    "%%bash\n",
    "cd httpd\n",
    "docker build -t kbene/httpd-local .\n",
    "docker run -d -p 8081:80 --name httpd-local kbene/httpd-local"
   ]
  },
  {
   "cell_type": "code",
   "execution_count": 3,
   "metadata": {},
   "outputs": [
    {
     "name": "stdout",
     "output_type": "stream",
     "text": [
      "CONTAINER ID        IMAGE               COMMAND              CREATED                  STATUS                  PORTS                  NAMES\n",
      "d1e520feadab        kbene/httpd-local   \"httpd-foreground\"   Less than a second ago   Up Less than a second   0.0.0.0:8081->80/tcp   httpd-local\n"
     ]
    }
   ],
   "source": [
    "%%bash\n",
    "docker ps"
   ]
  },
  {
   "cell_type": "markdown",
   "metadata": {},
   "source": [
    "[http://localhost:8081](http://localhost:8081)"
   ]
  },
  {
   "cell_type": "code",
   "execution_count": 4,
   "metadata": {},
   "outputs": [
    {
     "name": "stdout",
     "output_type": "stream",
     "text": [
      "httpd-local\n",
      "httpd-local\n",
      "CONTAINER ID        IMAGE               COMMAND             CREATED             STATUS              PORTS               NAMES\n"
     ]
    }
   ],
   "source": [
    "%%bash\n",
    "docker stop httpd-local\n",
    "docker rm httpd-local\n",
    "docker ps"
   ]
  },
  {
   "cell_type": "markdown",
   "metadata": {},
   "source": [
    "### Database server\n",
    "\n",
    "[MySQL Official Image](https://hub.docker.com/_/mysql/)"
   ]
  },
  {
   "cell_type": "code",
   "execution_count": 5,
   "metadata": {},
   "outputs": [
    {
     "name": "stdout",
     "output_type": "stream",
     "text": [
      "Using default tag: latest\n",
      "latest: Pulling from library/mysql\n",
      "Digest: sha256:227d5c3f54ee3a70c075b1c3013e72781564000d34fc8c7ec5ec353c5b7ef7fa\n",
      "Status: Image is up to date for mysql:latest\n",
      "e63d6212c683f63a9b60bffca3fef3935fc0e4989d47010e72f4641281ad9a5c\n"
     ]
    }
   ],
   "source": [
    "%%bash\n",
    "# Run the MySql server container from the official image in Dockerhub\n",
    "docker pull mysql\n",
    "docker run --name some-mysql -p 3306:3306 -e MYSQL_USER=demouser -e MYSQL_PASSWORD=getmein -e MYSQL_ROOT_PASSWORD=my-secret-pw -e MYSQL_DATABASE=testdb -d mysql"
   ]
  },
  {
   "cell_type": "code",
   "execution_count": 6,
   "metadata": {},
   "outputs": [
    {
     "name": "stdout",
     "output_type": "stream",
     "text": [
      "CONTAINER ID        IMAGE               COMMAND                  CREATED                  STATUS                  PORTS                    NAMES\n",
      "e63d6212c683        mysql               \"docker-entrypoint.s…\"   Less than a second ago   Up Less than a second   0.0.0.0:3306->3306/tcp   some-mysql\n"
     ]
    }
   ],
   "source": [
    "%%bash\n",
    "docker ps"
   ]
  },
  {
   "cell_type": "markdown",
   "metadata": {},
   "source": [
    "\n",
    "    docker exec -it some-mysql bash\n",
    "\n",
    "    root@9098f791534c:/# mysql -u demouser -p\n",
    "    Enter password: \n",
    "    Welcome to the MySQL monitor.  Commands end with ; or \\g.\n",
    "    Your MySQL connection id is 3\n",
    "    Server version: 5.7.21 MySQL Community Server (GPL)\n",
    "\n",
    "    Copyright (c) 2000, 2018, Oracle and/or its affiliates. All rights reserved.\n",
    "\n",
    "    Oracle is a registered trademark of Oracle Corporation and/or its\n",
    "    affiliates. Other names may be trademarks of their respective\n",
    "    owners.\n",
    "\n",
    "    Type 'help;' or '\\h' for help. Type '\\c' to clear the current input statement.\n",
    "\n",
    "    mysql> SHOW DATABASES;\n",
    "    +--------------------+\n",
    "    | Database           |\n",
    "    +--------------------+\n",
    "    | information_schema |\n",
    "    | testdb             |\n",
    "    +--------------------+\n",
    "    2 rows in set (0.00 sec)\n",
    "\n",
    "    mysql> QUIT;\n",
    "    Bye\n",
    "    root@9098f791534c:/# "
   ]
  },
  {
   "cell_type": "code",
   "execution_count": 7,
   "metadata": {},
   "outputs": [
    {
     "name": "stdout",
     "output_type": "stream",
     "text": [
      "some-mysql\n",
      "some-mysql\n",
      "CONTAINER ID        IMAGE               COMMAND             CREATED             STATUS              PORTS               NAMES\n"
     ]
    }
   ],
   "source": [
    "%%bash\n",
    "docker stop some-mysql\n",
    "docker rm some-mysql\n",
    "docker ps"
   ]
  },
  {
   "cell_type": "markdown",
   "metadata": {},
   "source": [
    "### Desktop analysis tool - Demo"
   ]
  },
  {
   "cell_type": "markdown",
   "metadata": {},
   "source": [
    "## Docker Resources\n",
    "\n",
    "* [Documentation Home Page](https://docs.docker.com)\n",
    "* [Getting Started with Docker](https://docs.docker.com/get-started/)\n",
    "* [Docker Overview](https://docs.docker.com/engine/docker-overview/)\n",
    "* [Command Reference](https://docs.docker.com/reference/)\n",
    "    * [Command Line Interface](https://docs.docker.com/engine/reference/commandline/cli/)\n",
    "    * [Dockerfile Reference](https://docs.docker.com/engine/reference/builder/)"
   ]
  },
  {
   "cell_type": "code",
   "execution_count": null,
   "metadata": {
    "collapsed": true,
    "jupyter": {
     "outputs_hidden": true
    }
   },
   "outputs": [],
   "source": []
  }
 ],
 "metadata": {
  "kernelspec": {
   "display_name": "Python 3",
   "language": "python",
   "name": "python3"
  },
  "language_info": {
   "codemirror_mode": {
    "name": "ipython",
    "version": 3
   },
   "file_extension": ".py",
   "mimetype": "text/x-python",
   "name": "python",
   "nbconvert_exporter": "python",
   "pygments_lexer": "ipython3",
   "version": "3.8.8"
  }
 },
 "nbformat": 4,
 "nbformat_minor": 4
}
